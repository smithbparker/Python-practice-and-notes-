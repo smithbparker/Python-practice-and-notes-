{
 "cells": [
  {
   "cell_type": "code",
   "execution_count": 7,
   "metadata": {},
   "outputs": [
    {
     "name": "stdout",
     "output_type": "stream",
     "text": [
      "{'Tom': 190, 'Joe': 175, 'Dick': 150}\n",
      "{'Tom': 190, 'Joe': 175, 'Dick': 150, 'Harry': 180}\n",
      "{'Tom': 190, 'Dick': 150, 'Harry': 180}\n",
      "150\n",
      "520\n",
      "dict_items([('Tom', 190), ('Dick', 150), ('Harry', 180)])\n",
      "<class 'dict_items'>\n",
      "('Tom', 190)\n",
      "<class 'tuple'>\n",
      "('Dick', 150)\n",
      "<class 'tuple'>\n",
      "('Harry', 180)\n",
      "<class 'tuple'>\n",
      "('Tom', 190)\n",
      "('Harry', 180)\n"
     ]
    }
   ],
   "source": [
    "adict = {\"Tom\":190, \"Joe\":175, \"Dick\":150}\n",
    "print(adict)\n",
    "#create a dictionary\n",
    "\n",
    "adict[\"Harry\"] = 180\n",
    "print(adict)\n",
    "#add harry to the dictionary\n",
    "\n",
    "del adict[\"Joe\"]\n",
    "print(adict)\n",
    "#delete Joe\n",
    "\n",
    "print(adict[\"Dick\"])\n",
    "#print Dick's weight\n",
    "\n",
    "\n",
    "\n",
    "sum = 0 \n",
    "for x in adict.values():\n",
    "    sum += x\n",
    "print(sum)  \n",
    "#get the sum of the weights\n",
    "\n",
    "returned_items = adict.items()\n",
    "print(returned_items)\n",
    "print(type(returned_items))\n",
    "#use method items() to get the items in adict as returned_items. Print the Object\n",
    "#returned by the items() method. What is the type of this object?\n",
    "\n",
    "for i in returned_items:\n",
    "    print(i)\n",
    "    print(type(i))\n",
    "#can you iterate over returned items?\n",
    "#can you use an integer index to obtain one of the things in returned_items?\n",
    "#print(returned_items[0]) returns an error message\n",
    "print(list(returned_items)[0])\n",
    "#can you convert to list and use an integer index? or sorted? (yes)\n",
    "print(sorted(returned_items)[1])\n",
    "\n"
   ]
  },
  {
   "cell_type": "code",
   "execution_count": 21,
   "metadata": {},
   "outputs": [
    {
     "name": "stdout",
     "output_type": "stream",
     "text": [
      "{150: 'Dick', 180: 'Harry', 190: 'Tom'}\n"
     ]
    }
   ],
   "source": [
    "\n",
    "new_dict = {}\n",
    "for key, value in sorted(adict.items()):\n",
    "    new_dict[value] = key\n",
    "\n",
    "print(new_dict)\n",
    "#How would you swap the keys and values in a dictionary? Use new dictionary\n"
   ]
  },
  {
   "cell_type": "code",
   "execution_count": 18,
   "metadata": {},
   "outputs": [
    {
     "name": "stdout",
     "output_type": "stream",
     "text": [
      "{150: 'Jerry', 180: 'Harry', 190: 'Tom'}\n"
     ]
    }
   ],
   "source": [
    "\n",
    "adict[\"Jerry\"] = 150\n",
    "new_dict = {}\n",
    "for key, value in sorted(adict.items()):\n",
    "    new_dict[value] = key\n",
    "    \n",
    "print(new_dict)\n",
    "#What happens if we do this and the same value occurs twice?\n",
    "#it added Jerry but it took out dick because a key can only have one value\n",
    "#and jerry came after dick so he survived\n",
    "\n"
   ]
  },
  {
   "cell_type": "code",
   "execution_count": 1,
   "metadata": {},
   "outputs": [
    {
     "name": "stdout",
     "output_type": "stream",
     "text": [
      "M 1\n",
      "i 4\n",
      "s 4\n",
      "p 2\n"
     ]
    }
   ],
   "source": [
    "#basic pattern for counting using a dictionary\n",
    "s = 'Mississippi'\n",
    "count_dict = {}\n",
    "for c in s:\n",
    "    if c in count_dict:\n",
    "        count_dict[c] = count_dict[c] + 1\n",
    "    else:\n",
    "        count_dict[c] = 1\n",
    "\n",
    "# Let's look at the results\n",
    "\n",
    "for k in count_dict.keys():\n",
    "    print(k,count_dict[k])\n",
    "    "
   ]
  },
  {
   "cell_type": "code",
   "execution_count": 1,
   "metadata": {},
   "outputs": [
    {
     "name": "stdout",
     "output_type": "stream",
     "text": [
      "M 1\n",
      "i 4\n",
      "s 4\n",
      "p 2\n"
     ]
    }
   ],
   "source": [
    "#The get method with the alt option is useful in simplifying this code\n",
    "s = 'Mississippi'\n",
    "count_dict = {}\n",
    "for c in s:\n",
    "    count_dict[c] = count_dict.get(c,0) + 1\n",
    "\n",
    "# Let's look at the results\n",
    "\n",
    "for k in count_dict.keys():\n",
    "    print(k,count_dict[k])\n",
    "    "
   ]
  },
  {
   "cell_type": "code",
   "execution_count": 24,
   "metadata": {},
   "outputs": [
    {
     "name": "stdout",
     "output_type": "stream",
     "text": [
      "1267650600228229401496703205376\n",
      "1 2\n",
      "2 6\n",
      "6 5\n",
      "7 3\n",
      "5 2\n",
      "0 6\n",
      "8 1\n",
      "9 2\n",
      "4 2\n",
      "3 2\n"
     ]
    }
   ],
   "source": [
    "#using same method to count digits in 2^100\n",
    "s_num = 2**100\n",
    "s = str(s_num)\n",
    "print(s)\n",
    "count_dict = {}\n",
    "for c in s:\n",
    "    count_dict[c] = count_dict.get(c,0) + 1\n",
    "\n",
    "# Let's look at the results\n",
    "\n",
    "for k in count_dict.keys():\n",
    "    print(k,count_dict[k])\n",
    "    "
   ]
  },
  {
   "cell_type": "code",
   "execution_count": 25,
   "metadata": {},
   "outputs": [
    {
     "name": "stdout",
     "output_type": "stream",
     "text": [
      "T 1 0.05\n",
      "h 1 0.05\n",
      "i 2 0.1\n",
      "s 3 0.15\n",
      "  4 0.2\n",
      "j 1 0.05\n",
      "u 1 0.05\n",
      "t 1 0.05\n",
      "a 1 0.05\n",
      "p 1 0.05\n",
      "r 1 0.05\n",
      "o 2 0.1\n",
      "f 1 0.05\n"
     ]
    }
   ],
   "source": [
    "#applying the code to calculate counts and relative frequencies of occurrences \n",
    "#in a list rather than a string. \n",
    "s = 'This is just a proof' \n",
    "l = list(s)\n",
    "count_dict = {}\n",
    "for c in l:\n",
    "    count_dict[c] = count_dict.get(c,0) + 1\n",
    "\n",
    "# Let's look at the results\n",
    "\n",
    "for k in count_dict.keys():\n",
    "    print(k,count_dict[k],count_dict[k]/len(l))\n",
    "    "
   ]
  },
  {
   "cell_type": "code",
   "execution_count": 4,
   "metadata": {},
   "outputs": [
    {
     "name": "stdout",
     "output_type": "stream",
     "text": [
      "Number of Occurrences for each Item\n",
      "M 1\n",
      "i 4\n",
      "s 4\n",
      "p 2\n"
     ]
    }
   ],
   "source": [
    "#Getting to know which value occurs most frequently \n",
    "s = 'Mississippi'\n",
    "count_dict = {}\n",
    "for c in s:\n",
    "    if c in count_dict:\n",
    "        count_dict[c] = count_dict[c] + 1\n",
    "    else:\n",
    "        count_dict[c] = 1\n",
    "\n",
    "# Let's look at the results\n",
    "\n",
    "print('Number of Occurrences for each Item')\n",
    "for k in count_dict.keys():\n",
    "    print(k,count_dict[k])\n",
    "    "
   ]
  },
  {
   "cell_type": "code",
   "execution_count": 5,
   "metadata": {},
   "outputs": [
    {
     "name": "stdout",
     "output_type": "stream",
     "text": [
      " \n",
      "Maximum Count\n",
      "4\n",
      " \n",
      "Most Frequent Items\n",
      "['i', 's']\n"
     ]
    }
   ],
   "source": [
    "# What is the maximum count?\n",
    "maxcount = max(count_dict.values())\n",
    "print(' ')\n",
    "print('Maximum Count')\n",
    "print(maxcount)\n",
    "\n",
    "Win_list = []\n",
    "for i in count_dict.keys():\n",
    "    if count_dict[i] >= maxcount:\n",
    "        Win_list.append(i)\n",
    "print(' ')\n",
    "print(\"Most Frequent Items\")\n",
    "print(Win_list) \n",
    "\n"
   ]
  },
  {
   "cell_type": "code",
   "execution_count": 20,
   "metadata": {},
   "outputs": [
    {
     "name": "stdout",
     "output_type": "stream",
     "text": [
      "The current value of count is 0\n",
      "The current value of count is 1\n",
      "The current value of count is 26\n",
      "The current value of count is 25\n",
      "THE CURRENT VALUE OF COUNT IS 0\n",
      "THE CURRENT VALUE OF COUNT IS 1\n",
      "The current value of count is 0\n",
      "The current value of count is 1\n"
     ]
    }
   ],
   "source": [
    "#9 - Classes\n",
    "#Define a class counter. It's init method should set the value of the attribute count to zero.\n",
    "#increment() adds 1, decrement() subtracts 1, get() prints a descriptive string with current value\n",
    "class counter:\n",
    "    \n",
    "    def __init__(self):\n",
    "        self.count = 0\n",
    "        \n",
    "    def increment(self):\n",
    "        self.count += 1\n",
    "        \n",
    "    def decrement(self):\n",
    "        self.count -= 1\n",
    "        \n",
    "    def get(self):\n",
    "        print(\"The current value of count is\",self.count)\n",
    "#create counter joe and get current value\n",
    "joe = counter()\n",
    "joe.get()\n",
    "#Add 1 to the current value and display using get()\n",
    "joe.increment()\n",
    "joe.get()\n",
    "#increment count 25 times using range() then check with get()\n",
    "for i in range(25):\n",
    "    joe.increment()\n",
    "joe.get()\n",
    "#use and test decrement\n",
    "joe.decrement()\n",
    "joe.get()\n",
    "\n",
    "#subclass w/ polymorphism\n",
    "#create class loud_counter as a subclass of counter.\n",
    "class loud_counter(counter):\n",
    "    def get(self):\n",
    "        print(\"THE CURRENT VALUE OF COUNT IS\",self.count)\n",
    "#instantiate jane as a member of the class loud_counter\n",
    "jane = loud_counter()\n",
    "jane.get()\n",
    "jane.increment()\n",
    "jane.get()\n",
    "#make sure counter class has not changed, instantiate tom\n",
    "tom = counter()\n",
    "tom.get()\n",
    "tom.increment()\n",
    "tom.get()\n"
   ]
  },
  {
   "cell_type": "code",
   "execution_count": 37,
   "metadata": {},
   "outputs": [
    {
     "name": "stdout",
     "output_type": "stream",
     "text": [
      "Rainy\n"
     ]
    },
    {
     "data": {
      "text/plain": [
       "'The skies on this day in Olympia are Clear Blue.'"
      ]
     },
     "execution_count": 37,
     "metadata": {},
     "output_type": "execute_result"
    }
   ],
   "source": [
    "#write a class weatherforecast that provides a method called set_skies with one parameter, a string\n",
    "#a method called set_high that has one parameter an int\n",
    "#a method called set_low that has one parameter an int\n",
    "#a method called get_skies that has no parameters and returns the last set_skies\n",
    "#a method get_high that has no parameters and returs the last set_high\n",
    "#a method get_low that has no parameters and returns the last set_low \n",
    "class WeatherForecast:\n",
    "    def __init__(self,skies,high,low):\n",
    "        self.skies = skies\n",
    "        self.high = high\n",
    "        self.low = low\n",
    "        \n",
    "    def set_skies(self,skies):\n",
    "        self.skies = skies\n",
    "        \n",
    "    def set_high(self,high):\n",
    "        self.high = high\n",
    "        \n",
    "    def set_low(self,low):\n",
    "        self.low = low\n",
    "        \n",
    "    def get_skies(self):\n",
    "        return self.skies\n",
    "    \n",
    "    def get_high(self):\n",
    "        return self.high\n",
    "    \n",
    "    def get_low(self):\n",
    "        return self.low\n",
    "#instantiate june_22 set the skies to clear, hight to 75 and low to 45\n",
    "june_22 = WeatherForecast(\"Clear\",75,45)\n",
    "june_22.get_skies()\n",
    "june_22.get_high()\n",
    "june_22.get_low()\n",
    "#only the last statement will print\n",
    "#Test each of the three set methods and use corresponding get to verify\n",
    "june_22.set_skies(\"Cloudy\")\n",
    "june_22.get_skies()\n",
    "#Change all of the attributes and display the results w/o using methods\n",
    "june_22 = WeatherForecast(\"Rainy\",80,50)\n",
    "print(june_22.skies)\n",
    "#create a subclass LocalWeatherForecast. it has a string parameter loc which is first\n",
    "#add get and set methods, note that you must provide an init method, you can use init in super class\n",
    "class LocalWeatherForecast(WeatherForecast):\n",
    "    def __init__(self,loc,skies, high, low):\n",
    "        WeatherForecast.__init__(self,skies, high, low)\n",
    "        self.loc = loc\n",
    "    def set_loc(self,loc):\n",
    "        self.loc = loc\n",
    "    def get_loc(self):\n",
    "        return self.loc\n",
    "#Creat e a local weather forecast for Olympia\n",
    "june_23_oly = LocalWeatherForecast(\"Olympia\",\"Clear Blue\",90,60)\n",
    "june_23_oly.get_skies()\n",
    "#redefine get_skies method\n",
    "class LocalWeatherForecast(WeatherForecast):\n",
    "    \n",
    "    def __init__(self,loc,skies,high,low):\n",
    "        WeatherForecast.__init__(self,skies,high,low)\n",
    "        self.loc = loc\n",
    "        \n",
    "    def set_loc(self,loc):\n",
    "            self.loc = loc\n",
    "            \n",
    "    def get_loc(self):\n",
    "            return self.loc\n",
    "        \n",
    "    def get_skies(self):\n",
    "            s = \"The skies on this day in \" + self.loc + \" are \" + self.skies + \".\"\n",
    "            return s\n",
    "june_23_oly = LocalWeatherForecast(\"Olympia\",\"Clear Blue\",90,60)\n",
    "june_23_oly.get_skies()\n",
    "\n"
   ]
  },
  {
   "cell_type": "code",
   "execution_count": null,
   "metadata": {},
   "outputs": [],
   "source": []
  }
 ],
 "metadata": {
  "kernelspec": {
   "display_name": "Python 3",
   "language": "python",
   "name": "python3"
  },
  "language_info": {
   "codemirror_mode": {
    "name": "ipython",
    "version": 3
   },
   "file_extension": ".py",
   "mimetype": "text/x-python",
   "name": "python",
   "nbconvert_exporter": "python",
   "pygments_lexer": "ipython3",
   "version": "3.7.8"
  },
  "orig_nbformat": 4,
  "vscode": {
   "interpreter": {
    "hash": "de431caae50738f08fe7e55d2cfb96da2b1d5c536efd53bb7eba94a566631f13"
   }
  }
 },
 "nbformat": 4,
 "nbformat_minor": 2
}
