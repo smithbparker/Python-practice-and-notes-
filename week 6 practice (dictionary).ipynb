{
 "cells": [
  {
   "cell_type": "code",
   "execution_count": 19,
   "metadata": {},
   "outputs": [
    {
     "name": "stdout",
     "output_type": "stream",
     "text": [
      "{'Tom': 190, 'Joe': 175, 'Dick': 150}\n",
      "{'Tom': 190, 'Joe': 175, 'Dick': 150, 'Harry': 180}\n",
      "{'Tom': 190, 'Dick': 150, 'Harry': 180}\n",
      "150\n"
     ]
    }
   ],
   "source": [
    "adict = {\"Tom\":190, \"Joe\":175, \"Dick\":150}\n",
    "print(adict)\n",
    "#create a dictionary\n",
    "\n",
    "adict[\"Harry\"] = 180\n",
    "print(adict)\n",
    "#add harry to the dictionary\n",
    "\n",
    "del adict[\"Joe\"]\n",
    "print(adict)\n",
    "#delete Joe\n",
    "\n",
    "print(adict[\"Dick\"])\n",
    "#print Dick's weight\n"
   ]
  },
  {
   "cell_type": "code",
   "execution_count": 20,
   "metadata": {},
   "outputs": [
    {
     "name": "stdout",
     "output_type": "stream",
     "text": [
      "520\n",
      "dict_items([('Tom', 190), ('Dick', 150), ('Harry', 180)])\n",
      "<class 'dict_items'>\n",
      "('Tom', 190)\n",
      "<class 'tuple'>\n",
      "('Dick', 150)\n",
      "<class 'tuple'>\n",
      "('Harry', 180)\n",
      "<class 'tuple'>\n",
      "('Tom', 190)\n",
      "('Harry', 180)\n"
     ]
    }
   ],
   "source": [
    "\n",
    "\n",
    "sum = 0 \n",
    "for x in adict.values():\n",
    "    sum += x\n",
    "print(sum)  \n",
    "#get the sum of the weights\n",
    "\n",
    "returned_items = adict.items()\n",
    "print(returned_items)\n",
    "print(type(returned_items))\n",
    "#use method items() to get the items in adict as returned_items. Print the Object\n",
    "#returned by the items() method. What is the type of this object?\n",
    "\n",
    "for i in returned_items:\n",
    "    print(i)\n",
    "    print(type(i))\n",
    "#can you iterate over returned items?\n",
    "#can you use an integer index to obtain one of the things in returned_items?\n",
    "#print(returned_items[0]) returns an error message\n",
    "print(list(returned_items)[0])\n",
    "#can you convert to list and use an integer index? or sorted? (yes)\n",
    "print(sorted(returned_items)[1])\n",
    "\n"
   ]
  },
  {
   "cell_type": "code",
   "execution_count": 21,
   "metadata": {},
   "outputs": [
    {
     "name": "stdout",
     "output_type": "stream",
     "text": [
      "{150: 'Dick', 180: 'Harry', 190: 'Tom'}\n"
     ]
    }
   ],
   "source": [
    "\n",
    "new_dict = {}\n",
    "for key, value in sorted(adict.items()):\n",
    "    new_dict[value] = key\n",
    "\n",
    "print(new_dict)\n",
    "#How would you swap the keys and values in a dictionary? Use new dictionary\n"
   ]
  },
  {
   "cell_type": "code",
   "execution_count": 18,
   "metadata": {},
   "outputs": [
    {
     "name": "stdout",
     "output_type": "stream",
     "text": [
      "{150: 'Jerry', 180: 'Harry', 190: 'Tom'}\n"
     ]
    }
   ],
   "source": [
    "\n",
    "adict[\"Jerry\"] = 150\n",
    "new_dict = {}\n",
    "for key, value in sorted(adict.items()):\n",
    "    new_dict[value] = key\n",
    "    \n",
    "print(new_dict)\n",
    "#What happens if we do this and the same value occurs twice?\n",
    "#it added Jerry but it took out dick because a key can only have one value\n",
    "#and jerry came after dick so he survived\n",
    "\n"
   ]
  },
  {
   "cell_type": "code",
   "execution_count": 22,
   "metadata": {},
   "outputs": [
    {
     "name": "stdout",
     "output_type": "stream",
     "text": [
      "M 1\n",
      "i 4\n",
      "s 4\n",
      "p 2\n"
     ]
    }
   ],
   "source": [
    "#basic pattern for counting using a dictionary\n",
    "s = 'Mississippi'\n",
    "count_dict = {}\n",
    "for c in s:\n",
    "    if c in count_dict:\n",
    "        count_dict[c] = count_dict[c] + 1\n",
    "    else:\n",
    "        count_dict[c] = 1\n",
    "\n",
    "# Let's look at the results\n",
    "\n",
    "for k in count_dict.keys():\n",
    "    print(k,count_dict[k])\n",
    "    "
   ]
  },
  {
   "cell_type": "code",
   "execution_count": 23,
   "metadata": {},
   "outputs": [
    {
     "name": "stdout",
     "output_type": "stream",
     "text": [
      "M 1\n",
      "i 4\n",
      "s 4\n",
      "p 2\n"
     ]
    }
   ],
   "source": [
    "#The get method with the alt option is useful in simplifying this code\n",
    "s = 'Mississippi'\n",
    "count_dict = {}\n",
    "for c in s:\n",
    "    count_dict[c] = count_dict.get(c,0) + 1\n",
    "\n",
    "# Let's look at the results\n",
    "\n",
    "for k in count_dict.keys():\n",
    "    print(k,count_dict[k])\n",
    "    "
   ]
  },
  {
   "cell_type": "code",
   "execution_count": 24,
   "metadata": {},
   "outputs": [
    {
     "name": "stdout",
     "output_type": "stream",
     "text": [
      "1267650600228229401496703205376\n",
      "1 2\n",
      "2 6\n",
      "6 5\n",
      "7 3\n",
      "5 2\n",
      "0 6\n",
      "8 1\n",
      "9 2\n",
      "4 2\n",
      "3 2\n"
     ]
    }
   ],
   "source": [
    "#using same method to count digits in 2^100\n",
    "s_num = 2**100\n",
    "s = str(s_num)\n",
    "print(s)\n",
    "count_dict = {}\n",
    "for c in s:\n",
    "    count_dict[c] = count_dict.get(c,0) + 1\n",
    "\n",
    "# Let's look at the results\n",
    "\n",
    "for k in count_dict.keys():\n",
    "    print(k,count_dict[k])\n",
    "    "
   ]
  },
  {
   "cell_type": "code",
   "execution_count": 25,
   "metadata": {},
   "outputs": [
    {
     "name": "stdout",
     "output_type": "stream",
     "text": [
      "T 1 0.05\n",
      "h 1 0.05\n",
      "i 2 0.1\n",
      "s 3 0.15\n",
      "  4 0.2\n",
      "j 1 0.05\n",
      "u 1 0.05\n",
      "t 1 0.05\n",
      "a 1 0.05\n",
      "p 1 0.05\n",
      "r 1 0.05\n",
      "o 2 0.1\n",
      "f 1 0.05\n"
     ]
    }
   ],
   "source": [
    "#applying the code to calculate counts and relative frequencies of occurrences \n",
    "#in a list rather than a string. \n",
    "s = 'This is just a proof' \n",
    "l = list(s)\n",
    "count_dict = {}\n",
    "for c in l:\n",
    "    count_dict[c] = count_dict.get(c,0) + 1\n",
    "\n",
    "# Let's look at the results\n",
    "\n",
    "for k in count_dict.keys():\n",
    "    print(k,count_dict[k],count_dict[k]/len(l))\n",
    "    "
   ]
  },
  {
   "cell_type": "code",
   "execution_count": 4,
   "metadata": {},
   "outputs": [
    {
     "name": "stdout",
     "output_type": "stream",
     "text": [
      "Number of Occurrences for each Item\n",
      "M 1\n",
      "i 4\n",
      "s 4\n",
      "p 2\n"
     ]
    }
   ],
   "source": [
    "#Getting to know which value occurs most frequently \n",
    "s = 'Mississippi'\n",
    "count_dict = {}\n",
    "for c in s:\n",
    "    if c in count_dict:\n",
    "        count_dict[c] = count_dict[c] + 1\n",
    "    else:\n",
    "        count_dict[c] = 1\n",
    "\n",
    "# Let's look at the results\n",
    "\n",
    "print('Number of Occurrences for each Item')\n",
    "for k in count_dict.keys():\n",
    "    print(k,count_dict[k])\n",
    "    "
   ]
  },
  {
   "cell_type": "code",
   "execution_count": 5,
   "metadata": {},
   "outputs": [
    {
     "name": "stdout",
     "output_type": "stream",
     "text": [
      " \n",
      "Maximum Count\n",
      "4\n",
      " \n",
      "Most Frequent Items\n",
      "['i', 's']\n"
     ]
    }
   ],
   "source": [
    "# What is the maximum count?\n",
    "maxcount = max(count_dict.values())\n",
    "print(' ')\n",
    "print('Maximum Count')\n",
    "print(maxcount)\n",
    "\n",
    "Win_list = []\n",
    "for i in count_dict.keys():\n",
    "    if count_dict[i] >= maxcount:\n",
    "        Win_list.append(i)\n",
    "print(' ')\n",
    "print(\"Most Frequent Items\")\n",
    "print(Win_list) "
   ]
  }
 ],
 "metadata": {
  "kernelspec": {
   "display_name": "Python 3",
   "language": "python",
   "name": "python3"
  },
  "language_info": {
   "codemirror_mode": {
    "name": "ipython",
    "version": 3
   },
   "file_extension": ".py",
   "mimetype": "text/x-python",
   "name": "python",
   "nbconvert_exporter": "python",
   "pygments_lexer": "ipython3",
   "version": "3.7.8"
  },
  "orig_nbformat": 4,
  "vscode": {
   "interpreter": {
    "hash": "de431caae50738f08fe7e55d2cfb96da2b1d5c536efd53bb7eba94a566631f13"
   }
  }
 },
 "nbformat": 4,
 "nbformat_minor": 2
}
