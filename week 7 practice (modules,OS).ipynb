{
 "cells": [
  {
   "cell_type": "code",
   "execution_count": 7,
   "metadata": {},
   "outputs": [
    {
     "name": "stdout",
     "output_type": "stream",
     "text": [
      "1.4142135623730951\n",
      "1.4142135623730951\n",
      "13\n",
      "c:\\Users\\Parker.Smith\\AppData\\Local\\Programs\\Microsoft VS Code\n",
      "Next\n",
      " \n",
      "c:\\Users\\Parker.Smith\\AppData\\Local\\Programs\\Python\\Python37\\python37.zip\n",
      "Next\n",
      " \n",
      "c:\\Users\\Parker.Smith\\AppData\\Local\\Programs\\Python\\Python37\\DLLs\n",
      "Next\n",
      " \n",
      "c:\\Users\\Parker.Smith\\AppData\\Local\\Programs\\Python\\Python37\\lib\n",
      "Next\n",
      " \n",
      "c:\\Users\\Parker.Smith\\AppData\\Local\\Programs\\Python\\Python37\n",
      "Next\n",
      " \n",
      "\n",
      "Next\n",
      " \n",
      "C:\\Users\\Parker.Smith\\AppData\\Roaming\\Python\\Python37\\site-packages\n",
      "Next\n",
      " \n",
      "C:\\Users\\Parker.Smith\\AppData\\Roaming\\Python\\Python37\\site-packages\\win32\n",
      "Next\n",
      " \n",
      "C:\\Users\\Parker.Smith\\AppData\\Roaming\\Python\\Python37\\site-packages\\win32\\lib\n",
      "Next\n",
      " \n",
      "C:\\Users\\Parker.Smith\\AppData\\Roaming\\Python\\Python37\\site-packages\\Pythonwin\n",
      "Next\n",
      " \n",
      "c:\\Users\\Parker.Smith\\AppData\\Local\\Programs\\Python\\Python37\\lib\\site-packages\n",
      "Next\n",
      " \n",
      "C:\\Users\\Parker.Smith\\AppData\\Roaming\\Python\\Python37\\site-packages\\IPython\\extensions\n",
      "Next\n",
      " \n",
      "C:\\Users\\Parker.Smith\\.ipython\n",
      "Next\n",
      " \n"
     ]
    }
   ],
   "source": [
    "#Modules\n",
    "#you can rename the math import to make things easier\n",
    "import math as m\n",
    "print(m.sqrt(2))\n",
    "\n",
    "#you can use syntax\n",
    "from math import sqrt\n",
    "print(sqrt(2))\n",
    "\n",
    "#what is in the math module\n",
    "#import math\n",
    "#math_list = dir(math)\n",
    "#for name in math_list:\n",
    "    # print(name) would get you everything\n",
    "#standard library is at https://docs.python.org/3/library/index.html\n",
    "\n",
    "#searching for a name\n",
    "import sys\n",
    "the_list = sys.path\n",
    "print(len(the_list))\n",
    "\n",
    "for i in the_list:\n",
    "    print(i)\n",
    "    print(\"Next\")\n",
    "    print(\" \")\n",
    "#this will look different depending on what system you have"
   ]
  },
  {
   "cell_type": "code",
   "execution_count": 14,
   "metadata": {},
   "outputs": [
    {
     "name": "stdout",
     "output_type": "stream",
     "text": [
      "C:\\Users\\Parker.Smith\\AppData\\Roaming\\Python\\Python37\\site-packages\n",
      "\n"
     ]
    }
   ],
   "source": [
    "#OS Module\n",
    "#Corey schafer on the osmodule https://www.youtube.com/watch?v=tJxcKyFMTGo&t=718s\n",
    "import os\n",
    "print(os.getcwd())\n",
    "#os.mkdir() and os.makedirs() makes directories\n",
    "#os.rmdir() and os.removedirs() deletes them\n",
    "#os.rename('test.txt', 'demo.txt') renames \n",
    "#os.stat('demo.txt') will get you info on that file\n",
    "#os.chdir(\"where you want it to be\") and then print(os.getcwd()) to confirm\n",
    "\n",
    "#examine site packages\n",
    "import sys\n",
    "the_list = sys.path\n",
    "print(the_list[5]) #[5] because thats where site packages was\n",
    "#os.listdir() gets everything\n"
   ]
  }
 ],
 "metadata": {
  "kernelspec": {
   "display_name": "Python 3",
   "language": "python",
   "name": "python3"
  },
  "language_info": {
   "codemirror_mode": {
    "name": "ipython",
    "version": 3
   },
   "file_extension": ".py",
   "mimetype": "text/x-python",
   "name": "python",
   "nbconvert_exporter": "python",
   "pygments_lexer": "ipython3",
   "version": "3.7.8"
  },
  "orig_nbformat": 4,
  "vscode": {
   "interpreter": {
    "hash": "de431caae50738f08fe7e55d2cfb96da2b1d5c536efd53bb7eba94a566631f13"
   }
  }
 },
 "nbformat": 4,
 "nbformat_minor": 2
}
