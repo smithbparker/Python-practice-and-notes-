{
 "cells": [
  {
   "cell_type": "code",
   "execution_count": 2,
   "metadata": {},
   "outputs": [
    {
     "name": "stdout",
     "output_type": "stream",
     "text": [
      "The largest value is 127.\n",
      "It occurs at index 4.\n",
      "It occurs at index 6.\n",
      "Roll 0 is 9 (4 + 5)\n",
      "Roll 1 is 6 (5 + 1)\n",
      "Roll 2 is 7 (2 + 5)\n",
      "Roll 3 is 6 (5 + 1)\n",
      "Roll 4 is 9 (3 + 6)\n",
      "Roll 5 is 10 (4 + 6)\n",
      "Roll 6 is 4 (1 + 3)\n",
      "Roll 7 is 8 (6 + 2)\n",
      "Roll 8 is 8 (3 + 5)\n",
      "\n",
      "Dice roll statistics:\n",
      "6s: 2\n",
      "7s: 1\n"
     ]
    }
   ],
   "source": [
    "#how to find the largest number and where it occurs\n",
    "\n",
    "n_list = [1,-5,16,76,127,4,127]\n",
    "lrgv = n_list[0]\n",
    "for i in n_list:\n",
    "    if i > lrgv:\n",
    "        lrgv = i\n",
    "print(f'The largest value is {lrgv}.')\n",
    "\n",
    "loclist = []\n",
    "for index, i in enumerate(n_list):\n",
    "    if i == lrgv:\n",
    "        loclist.append(index)\n",
    "\n",
    "for index in loclist:\n",
    "    print(f'It occurs at index {index}.')\n",
    "\n",
    "\n",
    "#calculates the number of times the sum of two dice (randomly rolled) is equal to six or seven\n",
    "import random\n",
    "\n",
    "num_sixes = 0\n",
    "num_sevens = 0\n",
    "num_rolls = int(input('Enter number of rolls:\\n'))\n",
    "\n",
    "if num_rolls >= 1:\n",
    "    for i in range(num_rolls):\n",
    "        die1 = random.randint(1,6)\n",
    "        die2 = random.randint(1,6)\n",
    "        roll_total = die1 + die2\n",
    "\n",
    "        #Count number of sixes and sevens\n",
    "        if roll_total == 6:\n",
    "            num_sixes = num_sixes + 1\n",
    "        if roll_total == 7:\n",
    "            num_sevens = num_sevens + 1\n",
    "        print(f'Roll {i} is {roll_total} ({die1} + {die2})')\n",
    "\n",
    "    print('\\nDice roll statistics:')\n",
    "    print(f'6s: {num_sixes}')\n",
    "    print(f'7s: {num_sevens}')\n",
    "else:\n",
    "    print('Invalid number of rolls. Try again.')\n",
    "\n",
    "\n",
    "\n",
    "\n",
    "\n",
    "    "
   ]
  }
 ],
 "metadata": {
  "kernelspec": {
   "display_name": "Python 3",
   "language": "python",
   "name": "python3"
  },
  "language_info": {
   "codemirror_mode": {
    "name": "ipython",
    "version": 3
   },
   "file_extension": ".py",
   "mimetype": "text/x-python",
   "name": "python",
   "nbconvert_exporter": "python",
   "pygments_lexer": "ipython3",
   "version": "3.7.8"
  },
  "orig_nbformat": 4,
  "vscode": {
   "interpreter": {
    "hash": "de431caae50738f08fe7e55d2cfb96da2b1d5c536efd53bb7eba94a566631f13"
   }
  }
 },
 "nbformat": 4,
 "nbformat_minor": 2
}
